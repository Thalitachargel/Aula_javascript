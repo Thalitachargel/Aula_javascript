{
  "nbformat": 4,
  "nbformat_minor": 0,
  "metadata": {
    "colab": {
      "name": "aula1 pandas - me delete",
      "provenance": [],
      "private_outputs": true,
      "mount_file_id": "1nT1UcCz5Gzml8UWtsY8p4LiCG24gJ6RQ",
      "authorship_tag": "ABX9TyO+2+8OCo6sMBzApBMJeR0s",
      "include_colab_link": true
    },
    "kernelspec": {
      "name": "python3",
      "display_name": "Python 3"
    },
    "accelerator": "GPU"
  },
  "cells": [
    {
      "cell_type": "markdown",
      "metadata": {
        "id": "view-in-github",
        "colab_type": "text"
      },
      "source": [
        "<a href=\"https://colab.research.google.com/github/Thalitachargel/Aula_javascript/blob/master/aula1_pandas_Thalita.ipynb\" target=\"_parent\"><img src=\"https://colab.research.google.com/assets/colab-badge.svg\" alt=\"Open In Colab\"/></a>"
      ]
    },
    {
      "cell_type": "code",
      "metadata": {
        "id": "cLBeVEY3pM2o",
        "colab_type": "code",
        "colab": {}
      },
      "source": [
        "import pandas as pd\n"
      ],
      "execution_count": null,
      "outputs": []
    },
    {
      "cell_type": "code",
      "metadata": {
        "id": "YuPzJRg637Zj",
        "colab_type": "code",
        "colab": {}
      },
      "source": [
        "df = pd.read_csv('/Gapminder.csv', error_bad_lines = False, sep = \";\")\n",
        "df = df.rename(columns={\"country\":\"País\", \"continent\":\"Continente\", \"year\": \"Ano\", \"lifeExp\" : \"Expectativa de vida\", \"pop\" : \"População\", \"gdpPercap\": \"PIB\"})"
      ],
      "execution_count": null,
      "outputs": []
    },
    {
      "cell_type": "code",
      "metadata": {
        "id": "O-7oOO7J8WOK",
        "colab_type": "code",
        "colab": {}
      },
      "source": [
        "df.head(10)\n",
        "df.shape"
      ],
      "execution_count": null,
      "outputs": []
    },
    {
      "cell_type": "code",
      "metadata": {
        "id": "10P4t4yA-N3g",
        "colab_type": "code",
        "colab": {}
      },
      "source": [
        "\n",
        "df.describe()"
      ],
      "execution_count": null,
      "outputs": []
    },
    {
      "cell_type": "code",
      "metadata": {
        "id": "AdINAer-DADY",
        "colab_type": "code",
        "colab": {}
      },
      "source": [
        ""
      ],
      "execution_count": null,
      "outputs": []
    },
    {
      "cell_type": "code",
      "metadata": {
        "id": "q2NEgW2T_RSz",
        "colab_type": "code",
        "colab": {}
      },
      "source": [
        "df[\"Continente\"].unique()"
      ],
      "execution_count": null,
      "outputs": []
    },
    {
      "cell_type": "code",
      "metadata": {
        "id": "o-VtEXg-_kb3",
        "colab_type": "code",
        "colab": {}
      },
      "source": [
        "dfOceania = df.loc[df[\"Continente\"] == \"Oceania\"]\n",
        "dfOceania.head()"
      ],
      "execution_count": null,
      "outputs": []
    },
    {
      "cell_type": "code",
      "metadata": {
        "id": "wlHq4zVI_-JK",
        "colab_type": "code",
        "colab": {}
      },
      "source": [
        "dfOceania.shape"
      ],
      "execution_count": null,
      "outputs": []
    },
    {
      "cell_type": "code",
      "metadata": {
        "id": "gk6UHXG2A1Ai",
        "colab_type": "code",
        "colab": {}
      },
      "source": [
        "df.groupby(\"Continente\")[\"País\"].nunique()"
      ],
      "execution_count": null,
      "outputs": []
    },
    {
      "cell_type": "code",
      "metadata": {
        "id": "2BljGh6MA_tf",
        "colab_type": "code",
        "colab": {}
      },
      "source": [
        "df.groupby(\"Ano\")[\"Expectativa de vida\"].mean()"
      ],
      "execution_count": null,
      "outputs": []
    },
    {
      "cell_type": "code",
      "metadata": {
        "id": "1b-3y3loDBCv",
        "colab_type": "code",
        "colab": {}
      },
      "source": [
        "df[\"PIB\"].sum()"
      ],
      "execution_count": null,
      "outputs": []
    },
    {
      "cell_type": "markdown",
      "metadata": {
        "id": "iPdmWdB9D9yK",
        "colab_type": "text"
      },
      "source": [
        "Aula Excel# Nova seção"
      ]
    },
    {
      "cell_type": "code",
      "metadata": {
        "id": "Wow6uOUTECa_",
        "colab_type": "code",
        "colab": {}
      },
      "source": [
        "df1 = pd.read_excel(\"/Aracaju.xlsx\")\n",
        "df2 = pd.read_excel(\"/Fortaleza.xlsx\")\n",
        "df3 = pd.read_excel(\"/Natal.xlsx\")\n",
        "df4 = pd.read_excel(\"/Recife.xlsx\")\n",
        "df5 = pd.read_excel(\"/Salvador.xlsx\")\n",
        "df = pd.concat([df1, df2, df3, df4, df5])\n",
        "df.head()"
      ],
      "execution_count": null,
      "outputs": []
    },
    {
      "cell_type": "code",
      "metadata": {
        "id": "y-eYqRLmFNzT",
        "colab_type": "code",
        "colab": {}
      },
      "source": [
        "df.dtypes\n",
        "df[\"LojaID\"] = df[\"LojaID\"].astype(\"object\")\n",
        "df.dtypes\n",
        "df.isnull().sum()\n"
      ],
      "execution_count": null,
      "outputs": []
    },
    {
      "cell_type": "code",
      "metadata": {
        "id": "MkVQuqoAKLYE",
        "colab_type": "code",
        "colab": {}
      },
      "source": [
        "df[\"Receita\"] = df[\"Vendas\"].mul(df[\"Qtde\"])\n",
        "\n",
        "df[\"Receita/Vendas\"] = df[\"Receita\"] / df[\"Vendas\"]\n",
        "df[\"Receita\"].min()\n",
        "df.nsmallest(3, \"Receita\")"
      ],
      "execution_count": null,
      "outputs": []
    },
    {
      "cell_type": "code",
      "metadata": {
        "id": "nOETuxrXLfyC",
        "colab_type": "code",
        "colab": {}
      },
      "source": [
        "df.groupby(\"Cidade\")[\"Receita\"].sum()\n",
        "df.sort_values(\"Receita\", ascending=False).head()"
      ],
      "execution_count": null,
      "outputs": []
    },
    {
      "cell_type": "code",
      "metadata": {
        "id": "LAwX65QDT-8O",
        "colab_type": "code",
        "colab": {}
      },
      "source": [
        ""
      ],
      "execution_count": null,
      "outputs": []
    },
    {
      "cell_type": "markdown",
      "metadata": {
        "id": "-obzQs2bT9-p",
        "colab_type": "text"
      },
      "source": [
        "# **Datas**\n"
      ]
    },
    {
      "cell_type": "code",
      "metadata": {
        "id": "dSOmoVOSUCam",
        "colab_type": "code",
        "colab": {}
      },
      "source": [
        "df[\"Data\"] = df[\"Data\"].astype(\"int64\")\n",
        "df.dtypes"
      ],
      "execution_count": null,
      "outputs": []
    },
    {
      "cell_type": "code",
      "metadata": {
        "id": "wtKWEoiVUfrb",
        "colab_type": "code",
        "colab": {}
      },
      "source": [
        "df[\"Data\"] =pd.to_datetime(df[\"Data\"])\n",
        "df.dtypes"
      ],
      "execution_count": null,
      "outputs": []
    },
    {
      "cell_type": "code",
      "metadata": {
        "id": "0AfdUKQ1U6Rf",
        "colab_type": "code",
        "colab": {}
      },
      "source": [
        "df.groupby(df[\"Data\"].dt.year)[\"Receita\"].sum()"
      ],
      "execution_count": null,
      "outputs": []
    },
    {
      "cell_type": "code",
      "metadata": {
        "id": "V-mwlfTLVguB",
        "colab_type": "code",
        "colab": {}
      },
      "source": [
        "df[\"anoVendas\"] = df[\"Data\"].dt.year\n",
        "df.sample()"
      ],
      "execution_count": null,
      "outputs": []
    },
    {
      "cell_type": "code",
      "metadata": {
        "id": "G14mS3s8V368",
        "colab_type": "code",
        "colab": {}
      },
      "source": [
        "df[\"Mês\"], df[\"Dia\"] = (df[\"Data\"].dt.month, df[\"Data\"].dt.day)\n",
        "\n",
        "df.sample(5)"
      ],
      "execution_count": null,
      "outputs": []
    },
    {
      "cell_type": "code",
      "metadata": {
        "id": "6DHtyFqBXLvW",
        "colab_type": "code",
        "colab": {}
      },
      "source": [
        "df[\"DiferençaDias\"] = df[\"Data\"] - df[\"Data\"].min()\n",
        "df.sample(5)"
      ],
      "execution_count": null,
      "outputs": []
    },
    {
      "cell_type": "code",
      "metadata": {
        "id": "DPzUWN14XmU4",
        "colab_type": "code",
        "colab": {}
      },
      "source": [
        "df[\"Quadrimestre\"] = df[\"Data\"].dt.quarter\n",
        "vendas_mac2019 = df.loc[(df[\"Data\"].dt.year == 2019) & (df[\"Data\"].dt.month == 3)]\n",
        "vendas_mac2019"
      ],
      "execution_count": null,
      "outputs": []
    },
    {
      "cell_type": "code",
      "metadata": {
        "id": "n-reee7zbXNH",
        "colab_type": "code",
        "colab": {}
      },
      "source": [
        "df[\"LojaID\"].value_counts(ascending = True).plot.barh();"
      ],
      "execution_count": null,
      "outputs": []
    },
    {
      "cell_type": "code",
      "metadata": {
        "id": "FQGEufvydMDq",
        "colab_type": "code",
        "colab": {}
      },
      "source": [
        "#graf pizza\n",
        "df.groupby(df[\"Data\"].dt.year)[\"Receita\"].sum().plot.pie();"
      ],
      "execution_count": null,
      "outputs": []
    },
    {
      "cell_type": "code",
      "metadata": {
        "id": "n3ofC5IfdtiY",
        "colab_type": "code",
        "colab": {}
      },
      "source": [
        "#total de vendas pro cidade\n",
        "df[\"Cidade\"].value_counts()"
      ],
      "execution_count": null,
      "outputs": []
    },
    {
      "cell_type": "code",
      "metadata": {
        "id": "tkL5C-did5PD",
        "colab_type": "code",
        "colab": {}
      },
      "source": [
        "import matplotlib.pyplot as plt\n",
        "df[\"Cidade\"].value_counts().plot.bar(title = \"Total de vendas por cidades\", color = \"red\")\n",
        "plt.xlabel(\"Cidade\")\n",
        "plt.ylabel(\"Total de vendas\");"
      ],
      "execution_count": null,
      "outputs": []
    },
    {
      "cell_type": "code",
      "metadata": {
        "id": "oBXxn8lNerG6",
        "colab_type": "code",
        "colab": {}
      },
      "source": [
        "plt.style.use(\"ggplot\")"
      ],
      "execution_count": null,
      "outputs": []
    },
    {
      "cell_type": "code",
      "metadata": {
        "id": "ITxuwxtXeu93",
        "colab_type": "code",
        "colab": {}
      },
      "source": [
        "df.groupby(df[\"Mês\"])[\"Qtde\"].sum().plot(title = \"venda por mês\");\n",
        "plt.xlabel(\"Mês\")\n",
        "plt.ylabel(\"Totoal de produtos vendidos\") \n",
        "plt.legend();\n"
      ],
      "execution_count": null,
      "outputs": []
    },
    {
      "cell_type": "code",
      "metadata": {
        "id": "eU-v2RrYfjt5",
        "colab_type": "code",
        "colab": {}
      },
      "source": [
        "df2019 = df[df[\"anoVendas\"] == 2019]\n",
        "df2019.groupby(df2019[\"Mês\"])[\"Qtde\"].sum().plot(marker = \"o\", title = \"Tota de vendas em 2019 por mês\")\n",
        "plt.xlabel(\"mês\")\n",
        "plt.ylabel(\"Total de produtos vendidos\")\n",
        "plt.legend();"
      ],
      "execution_count": null,
      "outputs": []
    },
    {
      "cell_type": "code",
      "metadata": {
        "id": "C_Al1gLrg-O7",
        "colab_type": "code",
        "colab": {}
      },
      "source": [
        "plt.hist(df[\"Qtde\"], color = \"orangered\");"
      ],
      "execution_count": null,
      "outputs": []
    },
    {
      "cell_type": "code",
      "metadata": {
        "id": "bPesJoVThmuy",
        "colab_type": "code",
        "colab": {}
      },
      "source": [
        "plt.scatter(x = df2019[\"Dia\"], y = df2019[\"Receita\"]);"
      ],
      "execution_count": null,
      "outputs": []
    },
    {
      "cell_type": "code",
      "metadata": {
        "id": "FdCMYJ-QiCc6",
        "colab_type": "code",
        "colab": {}
      },
      "source": [
        "df2019.groupby(df2019[\"Mês\"])[\"Qtde\"].sum().plot(marker =\"v\")\n",
        "plt.title(\"Quantidade de produtos vendidos x Mês\")\n",
        "plt.xlabel(\"mês\")\n",
        "plt.ylabel(\"total de vendas\")\n",
        "plt.legend(\"legenda\")\n",
        "plt.savefig(\"Grafico qtde x mes.png\")"
      ],
      "execution_count": null,
      "outputs": []
    },
    {
      "cell_type": "code",
      "metadata": {
        "id": "49-6eGPsjM3G",
        "colab_type": "code",
        "colab": {}
      },
      "source": [
        ""
      ],
      "execution_count": null,
      "outputs": []
    },
    {
      "cell_type": "markdown",
      "metadata": {
        "id": "StE_r3cPjHhw",
        "colab_type": "text"
      },
      "source": [
        "#Analise exploratoria \n"
      ]
    },
    {
      "cell_type": "code",
      "metadata": {
        "id": "Q2svE-yqjN0e",
        "colab_type": "code",
        "colab": {}
      },
      "source": [
        "import pandas as pd\n",
        "import matplotlib.pyplot as plt\n",
        "plt.style.use(\"seaborn\")"
      ],
      "execution_count": null,
      "outputs": []
    },
    {
      "cell_type": "code",
      "metadata": {
        "id": "l6-i1o2tjyjW",
        "colab_type": "code",
        "colab": {}
      },
      "source": [
        "from google.colab import files\n",
        "arq = files.upload()"
      ],
      "execution_count": null,
      "outputs": []
    },
    {
      "cell_type": "code",
      "metadata": {
        "id": "zxnjNzngkAMV",
        "colab_type": "code",
        "colab": {}
      },
      "source": [
        "df = pd.read_excel(\"AdventureWorks.xlsx\")\n",
        "df.head()"
      ],
      "execution_count": null,
      "outputs": []
    },
    {
      "cell_type": "code",
      "metadata": {
        "id": "W-ZOpQqzkfke",
        "colab_type": "code",
        "colab": {}
      },
      "source": [
        "df[\"ID Loja\"] = df[\"ID Loja\"].astype(object)\n",
        "df.dtypes"
      ],
      "execution_count": null,
      "outputs": []
    },
    {
      "cell_type": "code",
      "metadata": {
        "id": "HiaclYJtlKdM",
        "colab_type": "code",
        "colab": {}
      },
      "source": [
        "#qual foi a receita total?\n",
        "df[\"Valor Venda\"].sum()"
      ],
      "execution_count": null,
      "outputs": []
    },
    {
      "cell_type": "code",
      "metadata": {
        "id": "KkQMGhZlldmD",
        "colab_type": "code",
        "colab": {}
      },
      "source": [
        "#custo total\n",
        "df[\"Custo\"] = df[\"Custo Unitário\"].mul(df[\"Quantidade\"],2)\n",
        "df.sample(3)"
      ],
      "execution_count": null,
      "outputs": []
    },
    {
      "cell_type": "code",
      "metadata": {
        "id": "8lFPGXM5lz4z",
        "colab_type": "code",
        "colab": {}
      },
      "source": [
        "df[\"Lucro\"] = df[\"Valor Venda\"] - df[\"Custo\"]\n",
        "df.sample()"
      ],
      "execution_count": null,
      "outputs": []
    },
    {
      "cell_type": "code",
      "metadata": {
        "id": "1ETEu2MomO7_",
        "colab_type": "code",
        "colab": {}
      },
      "source": [
        " round(df[\"Custo\"].sum(), 2)"
      ],
      "execution_count": null,
      "outputs": []
    },
    {
      "cell_type": "code",
      "metadata": {
        "id": "ZHZXKPZimmF9",
        "colab_type": "code",
        "colab": {}
      },
      "source": [
        "#lucro total\n",
        "round(df[\"Lucro\"].sum(), 2)"
      ],
      "execution_count": null,
      "outputs": []
    },
    {
      "cell_type": "code",
      "metadata": {
        "id": "olh_DOysnH94",
        "colab_type": "code",
        "colab": {}
      },
      "source": [
        "df[\"TempoEnvio\"] = (df[\"Data Envio\"] - df[\"Data Venda\"]).dt.days\n",
        "df.sample()"
      ],
      "execution_count": null,
      "outputs": []
    },
    {
      "cell_type": "code",
      "metadata": {
        "id": "RS8WZ1_VoBpq",
        "colab_type": "code",
        "colab": {}
      },
      "source": [
        "df[\"TempoEnvio\"]\n",
        "df.groupby(\"Marca\")[\"TempoEnvio\"].mean()"
      ],
      "execution_count": null,
      "outputs": []
    },
    {
      "cell_type": "code",
      "metadata": {
        "id": "rVDqXoeApAVU",
        "colab_type": "code",
        "colab": {}
      },
      "source": [
        "df.isnull().sum()"
      ],
      "execution_count": null,
      "outputs": []
    },
    {
      "cell_type": "code",
      "metadata": {
        "id": "Elb_Uvsjslqe",
        "colab_type": "code",
        "colab": {}
      },
      "source": [
        "df.groupby([df[\"Data Venda\"].dt.year, \"Marca\"])[\"Lucro\"].sum()\n"
      ],
      "execution_count": null,
      "outputs": []
    },
    {
      "cell_type": "code",
      "metadata": {
        "id": "Y-psFgFttLwu",
        "colab_type": "code",
        "colab": {}
      },
      "source": [
        "pd.options.display.float_format = '{:20,.2f}'.format"
      ],
      "execution_count": null,
      "outputs": []
    },
    {
      "cell_type": "code",
      "metadata": {
        "id": "xI3DZNCPtqQE",
        "colab_type": "code",
        "colab": {}
      },
      "source": [
        "\n",
        "df.groupby([df[\"Data Venda\"].dt.year, \"Marca\"])[\"Lucro\"].sum().plot.pie(title = \"Oi\", legend = True);"
      ],
      "execution_count": null,
      "outputs": []
    },
    {
      "cell_type": "code",
      "metadata": {
        "id": "mRxr3A48uiJf",
        "colab_type": "code",
        "colab": {}
      },
      "source": [
        "lucroAno = df.groupby([df[\"Data Venda\"].dt.year, \"Marca\"])[\"Lucro\"].sum().reset_index()"
      ],
      "execution_count": null,
      "outputs": []
    },
    {
      "cell_type": "code",
      "metadata": {
        "id": "Q4h6il2hvCGr",
        "colab_type": "code",
        "colab": {}
      },
      "source": [
        "lucroAno"
      ],
      "execution_count": null,
      "outputs": []
    },
    {
      "cell_type": "code",
      "metadata": {
        "id": "7bq5VPqbvKzd",
        "colab_type": "code",
        "colab": {}
      },
      "source": [
        "df.groupby(\"Produto\")[\"Quantidade\"].sum().sort_values(ascending = True).plot.barh(title = \"Total de produtos vendidos\", color = \"pink\")\n",
        "\n",
        "plt.xlabel(\"Total\")\n",
        "plt.ylabel(\"Produro\");\n",
        "\n"
      ],
      "execution_count": null,
      "outputs": []
    },
    {
      "cell_type": "code",
      "metadata": {
        "id": "MhjRXsIDwYXE",
        "colab_type": "code",
        "colab": {}
      },
      "source": [
        "df.groupby([df[\"Data Venda\"].dt.year])[\"Lucro\"].sum().plot.bar(title = \"custo x ano\", color = \"purple\")\n",
        "plt.xlabel(\"Ano\")\n",
        "plt.ylabel(\"Receita\");"
      ],
      "execution_count": null,
      "outputs": []
    },
    {
      "cell_type": "code",
      "metadata": {
        "id": "xhL4WZwryPxy",
        "colab_type": "code",
        "colab": {}
      },
      "source": [
        "df2009 = df[df[\"Data Venda\"].dt.year == 2009]\n",
        "df2009.sample()"
      ],
      "execution_count": null,
      "outputs": []
    },
    {
      "cell_type": "code",
      "metadata": {
        "id": "DzvmZVxtyh6i",
        "colab_type": "code",
        "colab": {}
      },
      "source": [
        "df2009.groupby(df2009[\"Data Venda\"].dt.month)[\"Lucro\"].sum().plot(title = \"mes x lucro\")\n",
        "plt.xlabel(\"Mês\")\n",
        "plt.ylabel(\"lucro\");"
      ],
      "execution_count": null,
      "outputs": []
    },
    {
      "cell_type": "code",
      "metadata": {
        "id": "6RvOqgp-zJEH",
        "colab_type": "code",
        "colab": {}
      },
      "source": [
        "df2009.groupby(\"Marca\")[\"Lucro\"].sum().plot.bar(title = \"Lucro por marca\")\n",
        "plt.xlabel(\"Marca\")\n",
        "plt.ylabel(\"Lucro\")\n",
        "plt.xticks(rotation = \"horizontal\");"
      ],
      "execution_count": null,
      "outputs": []
    },
    {
      "cell_type": "code",
      "metadata": {
        "id": "AHJweQgS0CPc",
        "colab_type": "code",
        "colab": {}
      },
      "source": [
        "df[\"TempoEnvio\"].describe(\n",
        "\n",
        ")"
      ],
      "execution_count": null,
      "outputs": []
    },
    {
      "cell_type": "code",
      "metadata": {
        "id": "OASblbHe0Wzf",
        "colab_type": "code",
        "colab": {}
      },
      "source": [
        "plt.boxplot(df[\"TempoEnvio\"]);"
      ],
      "execution_count": null,
      "outputs": []
    },
    {
      "cell_type": "code",
      "metadata": {
        "id": "faeoHQtA1CMf",
        "colab_type": "code",
        "colab": {}
      },
      "source": [
        "df[df[\"TempoEnvio\"] == 20]"
      ],
      "execution_count": null,
      "outputs": []
    },
    {
      "cell_type": "code",
      "metadata": {
        "id": "HKzpA11D1Uwq",
        "colab_type": "code",
        "colab": {}
      },
      "source": [
        "df.to_csv(\"dfVendasNovo.csv\", index = False)"
      ],
      "execution_count": null,
      "outputs": []
    }
  ]
}